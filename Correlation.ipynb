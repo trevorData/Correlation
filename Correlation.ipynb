{
 "cells": [
  {
   "cell_type": "code",
   "execution_count": 1,
   "metadata": {},
   "outputs": [],
   "source": [
    "import numpy as np"
   ]
  },
  {
   "cell_type": "code",
   "execution_count": 2,
   "metadata": {},
   "outputs": [],
   "source": [
    "import matplotlib.pyplot as plt"
   ]
  },
  {
   "cell_type": "code",
   "execution_count": 38,
   "metadata": {},
   "outputs": [],
   "source": [
    "from matplotlib.ticker import FormatStrFormatter"
   ]
  },
  {
   "cell_type": "code",
   "execution_count": 3,
   "metadata": {},
   "outputs": [],
   "source": [
    "x = np.arange(-5, 6)"
   ]
  },
  {
   "cell_type": "code",
   "execution_count": 4,
   "metadata": {},
   "outputs": [],
   "source": [
    "y_true = np.arange(-5, 6)\n",
    "err = np.random.rand(11)\n",
    "y_err = err - err.mean()"
   ]
  },
  {
   "cell_type": "code",
   "execution_count": 66,
   "metadata": {},
   "outputs": [],
   "source": [
    "def plt_fig(k, e, name):    \n",
    "    \n",
    "    fig = plt.figure(figsize=(10, 5))\n",
    "\n",
    "    # Raw Data\n",
    "    ax_r = plt.subplot2grid((1, 2), (0, 0))\n",
    "    ax_r.set_ylim(-7.5, 7.5)\n",
    "    ax_r.set_xlim(-7.5, 7.5)\n",
    "    ax_r.set_title('Raw Data')\n",
    "\n",
    "    ax_r.set_xticks([-6, -3, 0, 3, 6])\n",
    "    ax_r.set_yticks([-6, -3, 0, 3, 6])\n",
    "\n",
    "    ax_r.plot([-7.5, 7.5], [0, 0], '--', color = 'gray', linewidth=1)\n",
    "    ax_r.plot([0, 0], [-7.5, 7.5], '--', color = 'gray', linewidth=1)\n",
    "\n",
    "    y = k*y_true + y_err*e\n",
    "\n",
    "    b_r = (np.cov(x, y, bias=True)[0][1])/np.var(x)\n",
    "    a_r = y.mean() - b_r*x.mean()\n",
    "    corr_r = np.corrcoef(x, y)[0][1]\n",
    "\n",
    "    ax_r.plot(x, y, '.', ms=8, color='black')\n",
    "    ax_r.plot([-7.5, 7.5], [-7.5*b_r + a_r, 7.5*b_r + a_r], color='navy', linewidth=1.5)\n",
    "\n",
    "    ax_r.annotate('β = %.3f' % b_r, xy= (-7.1, 6.7), size=10)\n",
    "    ax_r.annotate('r  = %.3f' % corr_r, xy=(-7.1, 5.95), size=10)\n",
    "\n",
    "    ax_r.annotate('$\\mathregular{X}$' % corr_r, xy=(6.5, -.7), size=11)\n",
    "    ax_r.annotate('$\\mathregular{Y}$' % corr_r, xy=(-.8 , 6.5), size=11)\n",
    "\n",
    "    # Z Scores\n",
    "    ax_z = plt.subplot2grid((1, 2), (0, 1))\n",
    "    ax_z.set_ylim(-2, 2)\n",
    "    ax_z.set_xlim(-2, 2)\n",
    "    ax_z.set_title('Z-Scores of Data')\n",
    "\n",
    "    ax_z.set_xticks([-2, -1, 0, 1, 2])\n",
    "    ax_z.set_yticks([-2, -1, 0, 1, 2])\n",
    "\n",
    "    ax_z.plot([-7.5, 7.5], [0, 0], '--', color = 'gray', linewidth=1)\n",
    "    ax_z.plot([0, 0], [-7.5, 7.5], '--', color = 'gray', linewidth=1)\n",
    "\n",
    "    x_z = (x - x.mean())/x.std()\n",
    "    y_z = (y - y.mean())/y.std()\n",
    "\n",
    "    b_z = (np.cov(x_z, y_z, bias=True)[0][1])/np.var(x_z)\n",
    "    a_z = y_z.mean() - b_z*x_z.mean()\n",
    "    corr_z = np.corrcoef(x_z, y_z)[0][1]\n",
    "\n",
    "    ax_z.plot(x_z, y_z, '.', ms=8, color='black')\n",
    "    ax_z.plot([-7.5, 7.5], [-7.5*b_z + a_z, 7.5*b_z + a_z], color='red', linewidth=1.5)\n",
    "\n",
    "    ax_z.annotate('β = %.3f' % b_z, xy= (-1.9, 1.8), size=10)\n",
    "    ax_z.annotate('r  = %.3f' % corr_z, xy=(-1.9, 1.6), size=10)\n",
    "\n",
    "    ax_z.annotate('$\\mathregular{σ_X}$' % corr_z, xy=(1.7, -.2), size=11)\n",
    "    ax_z.annotate('$\\mathregular{σ_Y}$' % corr_z, xy=(-.3, 1.8), size=11)\n",
    "\n",
    "    ### Save Plots ###\n",
    "    fig.savefig('corr_plot_{}.png'.format(str(name).zfill(3)))\n",
    "\n",
    "    plt.close()"
   ]
  },
  {
   "cell_type": "code",
   "execution_count": 71,
   "metadata": {},
   "outputs": [],
   "source": [
    "es = [0, 3, 6, 9, 12, 15, 18, 21, 24, 27, 30, 33, 36]\n",
    "ks = [1, 1, 1, 1,  1,  1,  1,  1,  1,  1,  1,  1,  1]\n",
    "names = np.arange(len(ks))"
   ]
  },
  {
   "cell_type": "code",
   "execution_count": 72,
   "metadata": {},
   "outputs": [],
   "source": [
    "for i in names:\n",
    "    \n",
    "    plt_fig(k=ks[i], e=es[i], name=i)"
   ]
  },
  {
   "cell_type": "code",
   "execution_count": 78,
   "metadata": {},
   "outputs": [],
   "source": [
    "ks = [1, .9, .8, .7, .6, .5, .4, .3, .2, .1]\n",
    "es = np.zeros(len(ks))\n",
    "names = np.arange(len(ks))"
   ]
  },
  {
   "cell_type": "code",
   "execution_count": 79,
   "metadata": {},
   "outputs": [],
   "source": [
    "for i in names:\n",
    "    \n",
    "    plt_fig(k=ks[i], e=es[i], name=i + len(ks))"
   ]
  },
  {
   "cell_type": "code",
   "execution_count": null,
   "metadata": {},
   "outputs": [],
   "source": []
  }
 ],
 "metadata": {
  "kernelspec": {
   "display_name": "Python 3",
   "language": "python",
   "name": "python3"
  },
  "language_info": {
   "codemirror_mode": {
    "name": "ipython",
    "version": 3
   },
   "file_extension": ".py",
   "mimetype": "text/x-python",
   "name": "python",
   "nbconvert_exporter": "python",
   "pygments_lexer": "ipython3",
   "version": "3.7.4"
  }
 },
 "nbformat": 4,
 "nbformat_minor": 2
}
